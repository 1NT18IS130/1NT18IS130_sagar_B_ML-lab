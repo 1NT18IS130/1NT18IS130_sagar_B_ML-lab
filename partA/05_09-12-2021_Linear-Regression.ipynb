{
 "cells": [
  {
   "cell_type": "markdown",
   "metadata": {},
   "source": [
    "# Linear Regression"
   ]
  },
  {
   "cell_type": "code",
   "execution_count": 21,
   "metadata": {},
   "outputs": [],
   "source": [
    "import pandas as pd\n",
    "import numpy as np\n",
    "import matplotlib.pyplot as plt\n",
    "import seaborn as sns"
   ]
  },
  {
   "cell_type": "code",
   "execution_count": 14,
   "metadata": {},
   "outputs": [
    {
     "data": {
      "text/html": [
       "<div>\n",
       "<style scoped>\n",
       "    .dataframe tbody tr th:only-of-type {\n",
       "        vertical-align: middle;\n",
       "    }\n",
       "\n",
       "    .dataframe tbody tr th {\n",
       "        vertical-align: top;\n",
       "    }\n",
       "\n",
       "    .dataframe thead th {\n",
       "        text-align: right;\n",
       "    }\n",
       "</style>\n",
       "<table border=\"1\" class=\"dataframe\">\n",
       "  <thead>\n",
       "    <tr style=\"text-align: right;\">\n",
       "      <th></th>\n",
       "      <th>x</th>\n",
       "      <th>y</th>\n",
       "    </tr>\n",
       "  </thead>\n",
       "  <tbody>\n",
       "    <tr>\n",
       "      <th>0</th>\n",
       "      <td>6.1101</td>\n",
       "      <td>17.5920</td>\n",
       "    </tr>\n",
       "    <tr>\n",
       "      <th>1</th>\n",
       "      <td>5.5277</td>\n",
       "      <td>9.1302</td>\n",
       "    </tr>\n",
       "    <tr>\n",
       "      <th>2</th>\n",
       "      <td>8.5186</td>\n",
       "      <td>13.6620</td>\n",
       "    </tr>\n",
       "    <tr>\n",
       "      <th>3</th>\n",
       "      <td>7.0032</td>\n",
       "      <td>11.8540</td>\n",
       "    </tr>\n",
       "    <tr>\n",
       "      <th>4</th>\n",
       "      <td>5.8598</td>\n",
       "      <td>6.8233</td>\n",
       "    </tr>\n",
       "  </tbody>\n",
       "</table>\n",
       "</div>"
      ],
      "text/plain": [
       "        x        y\n",
       "0  6.1101  17.5920\n",
       "1  5.5277   9.1302\n",
       "2  8.5186  13.6620\n",
       "3  7.0032  11.8540\n",
       "4  5.8598   6.8233"
      ]
     },
     "execution_count": 14,
     "metadata": {},
     "output_type": "execute_result"
    }
   ],
   "source": [
    "df = pd.read_csv(\"Food-Truck-LineReg.csv\", header=None, names=[\"x\", \"y\"])\n",
    "df.head()"
   ]
  },
  {
   "cell_type": "code",
   "execution_count": 19,
   "metadata": {},
   "outputs": [
    {
     "data": {
      "image/png": "[encoded data removed]",
      "text/plain": [
       "<Figure size 432x288 with 1 Axes>"
      ]
     },
     "metadata": {
      "needs_background": "light"
     },
     "output_type": "display_data"
    }
   ],
   "source": [
    "plt.scatter(df[\"x\"], df[\"y\"], s=None, c=None, alpha=0.5)\n",
    "plt.xlabel(\"x values\")\n",
    "plt.ylabel(\"y values\")\n",
    "plt.show()"
   ]
  },
  {
   "cell_type": "code",
   "execution_count": 23,
   "metadata": {},
   "outputs": [],
   "source": [
    "# corr_matrix = df.corr()\n",
    "# plt.figure(figsize=(20,15))\n",
    "# sns.heatmap(corr_matrix, annot=True)\n",
    "# plt.show()"
   ]
  },
  {
   "cell_type": "code",
   "execution_count": 55,
   "metadata": {},
   "outputs": [
    {
     "name": "stdout",
     "output_type": "stream",
     "text": [
      "[6.1101, 5.5277, 8.5186, 7.0032, 5.8598, 8.3829, 7.4764, 8.5781, 6.4862, 5.0546, 5.7107, 14.164000000000001, 5.734, 8.4084, 5.6407, 5.3794, 6.3654, 5.1301, 6.4296, 7.0708, 6.1891, 20.27, 5.4901, 6.3261, 5.5649, 18.945, 12.828, 10.957, 13.175999999999998, 22.203000000000003, 5.2524, 6.5894, 9.2482, 5.8918, 8.2111, 7.9334, 8.0959, 5.6063, 12.835999999999999, 6.3534, 5.4069, 6.8825, 11.708, 5.7737, 7.8247, 7.0931, 5.0702, 5.8014, 11.7, 5.5416, 7.5402, 5.3077, 7.4239, 7.6031, 6.3328, 6.3589, 6.2742, 5.6397, 9.3102, 9.4536, 8.8254, 5.1793, 21.279, 14.908, 18.959, 7.2182, 8.2951, 10.236, 5.4994, 20.340999999999998, 10.136000000000001, 7.3345, 6.0062, 7.2259, 5.0269, 6.5479, 7.5386] \n",
      "\n",
      " [10.274000000000001, 5.1077, 5.7292, 5.1884, 6.3557, 9.7687, 6.5159, 8.5172, 9.1802, 6.002000000000001, 5.5204, 5.0594, 5.7077, 7.6366, 5.8707, 5.3054, 8.2934, 13.394, 5.4369]\n",
      "R= 0.00012897984786377177\n"
     ]
    }
   ],
   "source": [
    "x = df[\"x\"].tolist()\n",
    "y = df[\"y\"].tolist()\n",
    "\n",
    "def split_data(X, Y, split):\n",
    "    '''\n",
    "    return X_train, X_test, y_train, y_test\n",
    "    '''\n",
    "    x_len = len(X)\n",
    "    y_len = len(Y)\n",
    "    if x_len != y_len:\n",
    "        return -1,-1,-1,-1\n",
    "    \n",
    "    if split * 100 > 100:\n",
    "        return -1, -1, -1, -1\n",
    "    \n",
    "    return X[0:int(split*x_len)], X[int(split*x_len)+1:len(x)], Y[0:int(split*y_len)], Y[int(split*y_len)+1:len(Y)]\n",
    "\n",
    "X_train, X_test, y_train, y_test = split_data(x,y, 0.8)\n",
    "\n",
    "print(X_train, \"\\n\\n\", X_test)\n",
    "\n",
    "x_2 = [numx ** 2 for numx in x]\n",
    "y_2 = [numy **2 for numy in y]\n",
    "\n",
    "\n",
    "xy = []\n",
    "for i in range(0, len(x)):\n",
    "    xy.append(x[i] * y[i])\n",
    "        \n",
    "r = sum(xy) / (sum(x_2) * sum(y_2))\n",
    "print(\"R=\",r)\n"
   ]
  },
  {
   "cell_type": "code",
   "execution_count": 40,
   "metadata": {},
   "outputs": [],
   "source": [
    "def standard_dev(array):\n",
    "    length = len(array)\n",
    "    mean = sum(array)/length\n",
    "    sq_diff = []\n",
    "    for i in range(0, length):\n",
    "        sq_diff.append((array[i] - mean) **2)\n",
    "    sd = (sum(sq_diff)/length) ** 0.5\n",
    "    return sd"
   ]
  },
  {
   "cell_type": "code",
   "execution_count": 42,
   "metadata": {},
   "outputs": [
    {
     "name": "stdout",
     "output_type": "stream",
     "text": [
      "3.8498839959227156\n",
      "5.48178525707763\n"
     ]
    }
   ],
   "source": [
    "sd_x = standard_dev(x)\n",
    "sd_y = standard_dev(y)\n",
    "\n",
    "print(sd_x)\n",
    "print(sd_y)"
   ]
  },
  {
   "cell_type": "code",
   "execution_count": 43,
   "metadata": {},
   "outputs": [
    {
     "name": "stdout",
     "output_type": "stream",
     "text": [
      "0.00018365224230874023\n"
     ]
    }
   ],
   "source": [
    "# slope\n",
    "m = r * (sd_y / sd_x)\n",
    "print(m)"
   ]
  },
  {
   "cell_type": "code",
   "execution_count": 47,
   "metadata": {},
   "outputs": [
    {
     "name": "stdout",
     "output_type": "stream",
     "text": [
      "5.8376364859795995\n"
     ]
    }
   ],
   "source": [
    "# y intercept\n",
    "c = (sum(y)/len(y)) - (m*(sum(x)/len(y)))\n",
    "print(c)"
   ]
  },
  {
   "cell_type": "code",
   "execution_count": 48,
   "metadata": {},
   "outputs": [
    {
     "name": "stdout",
     "output_type": "stream",
     "text": [
      "[5.83875861954533, 5.838651660479409, 5.839200945970931, 5.838922639362936, 5.838712651389081, 5.83917602436165, 5.839009543603996, 5.839211873279348, 5.8388276911536625, 5.838564774603573, 5.838685268839752, 5.8402377363396605, 5.838689547936998, 5.839180707493829, 5.83867241318279, 5.838624424851875, 5.8388055059627915, 5.838578640347867, 5.838817296436748, 5.838935054254516, 5.838773128072472, 5.841359116931198, 5.838644755155099, 5.838798288429669, 5.838658492342823, 5.841115777710138, 5.839992376943936, 5.839648763598577, 5.840056287924259, 5.841714116715581, 5.838601101017102, 5.838846644065069, 5.839334938646919, 5.838718528260834, 5.839144472906421, 5.839093472678732, 5.839123316168107, 5.838666095545655, 5.839993846161875, 5.838803302135884, 5.838629475288538, 5.838900472537289, 5.83978668643255, 5.838696838931018, 5.839073509679992, 5.838939149699519, 5.838567639578553, 5.838701926098129, 5.839785217214612, 5.838654213245578, 5.839021260617056, 5.838611256986102, 5.838999901861276, 5.839032812343097, 5.838799518899692, 5.838804312223217, 5.838788756878293, 5.838672229530548, 5.839346325085942, 5.83937266081749, 5.839257290478871, 5.838587676038189, 5.841544422043687, 5.840374373607938, 5.841118348841531, 5.8389621245950325, 5.839159899694775, 5.839516350331872, 5.838646463120952, 5.841372156240402, 5.8394979851076405, 5.8389834833508125, 5.838739538077355, 5.838963538717298, 5.838559687436462, 5.838839022497013, 5.839020966773468, 5.838561450497988, 5.839523329117079, 5.83857452653764, 5.8386886664062345, 5.838589347273595, 5.838803724536041, 5.839430529639041, 5.838833145625259, 5.839200688857791, 5.839322450294442, 5.8387387667379365, 5.838650319818041, 5.838565656134336, 5.838684717883025, 5.839038964693215, 5.8387146531985215, 5.838610834585944, 5.8391595874859625, 5.840096324113083, 5.8386349848558075]\n"
     ]
    }
   ],
   "source": [
    "# y predicted\n",
    "y_pred = []\n",
    "for num in x:\n",
    "    y_pred.append(m*num + c)\n",
    "    \n",
    "print(y_pred)"
   ]
  },
  {
   "cell_type": "code",
   "execution_count": 51,
   "metadata": {},
   "outputs": [
    {
     "name": "stdout",
     "output_type": "stream",
     "text": [
      "2914.2170923231056\n",
      "30.043475178588718\n",
      "5.481192860918937\n"
     ]
    }
   ],
   "source": [
    "# error stuff\n",
    "raw_error = []\n",
    "for i in range(0,len(y)):\n",
    "    raw_error.append(y[i] - y_pred[i])\n",
    "    \n",
    "sse = sum([num ** 2 for num in raw_error])\n",
    "mse = sse/len(x)\n",
    "rmse = mse ** 0.5\n",
    "\n",
    "print(sse)\n",
    "print(mse)\n",
    "print(rmse)"
   ]
  },
  {
   "cell_type": "code",
   "execution_count": 59,
   "metadata": {},
   "outputs": [
    {
     "name": "stdout",
     "output_type": "stream",
     "text": [
      "2914.2170923231056\n",
      "2914.8470516572247\n",
      "0.00021612088831934884\n"
     ]
    }
   ],
   "source": [
    "# coefficient of determination\n",
    "rss_values = []\n",
    "for i in range(0, len(y)):\n",
    "    rss_values.append((y[i] - y_pred[i])**2)\n",
    "rss = sum(rss_values)\n",
    "print(rss)\n",
    "\n",
    "mean = sum(y)/len(y)\n",
    "tss = sum([(num - mean) ** 2 for num in y])\n",
    "print(tss)\n",
    "\n",
    "r_2 = 1-(rss/tss)\n",
    "\n",
    "print(r_2)"
   ]
  },
  {
   "cell_type": "code",
   "execution_count": 56,
   "metadata": {},
   "outputs": [
    {
     "data": {
      "image/png": "[encoded data removed]",
      "text/plain": [
       "<Figure size 432x288 with 1 Axes>"
      ]
     },
     "metadata": {
      "needs_background": "light"
     },
     "output_type": "display_data"
    }
   ],
   "source": [
    "plt.scatter(x, y, color=\"red\")\n",
    "plt.plot(x, y_pred, color=\"green\")\n",
    "plt.show()"
   ]
  },
  {
   "cell_type": "code",
   "execution_count": 60,
   "metadata": {},
   "outputs": [
    {
     "name": "stdout",
     "output_type": "stream",
     "text": [
      "r2 score for perfect model is 0.0002161208883196819\n"
     ]
    }
   ],
   "source": [
    "from sklearn.metrics import r2_score\n",
    "r2 = r2_score(y, y_pred)\n",
    "print('r2 score for perfect model is', r2)"
   ]
  },
  {
   "cell_type": "code",
   "execution_count": null,
   "metadata": {},
   "outputs": [],
   "source": []
  }
 ],
 "metadata": {
  "kernelspec": {
   "display_name": "Python 3",
   "language": "python",
   "name": "python3"
  },
  "language_info": {
   "codemirror_mode": {
    "name": "ipython",
    "version": 3
   },
   "file_extension": ".py",
   "mimetype": "text/x-python",
   "name": "python",
   "nbconvert_exporter": "python",
   "pygments_lexer": "ipython3",
   "version": "3.8.5"
  }
 },
 "nbformat": 4,
 "nbformat_minor": 4
}
