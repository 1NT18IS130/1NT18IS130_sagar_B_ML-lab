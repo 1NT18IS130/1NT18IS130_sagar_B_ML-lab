{
 "cells": [
  {
   "cell_type": "markdown",
   "metadata": {},
   "source": [
    "# Problem 1"
   ]
  },
  {
   "cell_type": "markdown",
   "metadata": {},
   "source": [
    "## Mean"
   ]
  },
  {
   "cell_type": "code",
   "execution_count": 2,
   "metadata": {},
   "outputs": [
    {
     "name": "stdout",
     "output_type": "stream",
     "text": [
      "[90.4, 105.6, 110.2, 110.9, 115.3, 116.3, 120.5, 122.3, 125.4, 195.5]\n",
      "Mean:  121.23999999999998\n"
     ]
    }
   ],
   "source": [
    "import math\n",
    "\n",
    "l = [115.3, 195.5, 120.5, 110.2, 90.4, 105.6, 110.9, 116.3, 122.3, 125.4]\n",
    "\n",
    "l.sort()\n",
    "print(l)\n",
    "leng = len(l)\n",
    "mean = sum(l)/leng\n",
    "print(\"Mean: \", mean)"
   ]
  },
  {
   "cell_type": "markdown",
   "metadata": {},
   "source": [
    "## Median and Mode"
   ]
  },
  {
   "cell_type": "code",
   "execution_count": 3,
   "metadata": {},
   "outputs": [
    {
     "name": "stdout",
     "output_type": "stream",
     "text": [
      "Median:  117.4\n",
      "Mode :  90.4\n"
     ]
    }
   ],
   "source": [
    "if len(l) % 2 != 0:\n",
    "    median = (leng // 2) + 1 - 1\n",
    "    print(\"Median: \",l[median])\n",
    "\n",
    "if len(l) % 2 == 0:\n",
    "    median = ((l[leng//2] + l[(leng + 2)//2]) / 2) - 1\n",
    "    print(\"Median: \",median)\n",
    "    \n",
    "counter = {}\n",
    "\n",
    "for i in range(0, leng):\n",
    "    if str(l[i]) not in counter:\n",
    "        counter[str(l[i])] = 1\n",
    "    else:\n",
    "        counter[str(l[i])] += 1\n",
    "        \n",
    "mode = max(counter, key=counter.get)\n",
    "print(\"Mode : \",mode)"
   ]
  },
  {
   "cell_type": "markdown",
   "metadata": {},
   "source": [
    "## Standard Deviation and Variance"
   ]
  },
  {
   "cell_type": "code",
   "execution_count": 5,
   "metadata": {},
   "outputs": [
    {
     "name": "stdout",
     "output_type": "stream",
     "text": [
      "SD:  26.490987146574962\n",
      "Variance:  701.7723999999998\n"
     ]
    }
   ],
   "source": [
    "sq_from_mean = []\n",
    "\n",
    "for i in range(0, leng):\n",
    "    sq_from_mean.append((mean - l[i]) ** 2)\n",
    "\n",
    "sum_before = sum(sq_from_mean)\n",
    "\n",
    "sd = math.sqrt(sum_before/leng)\n",
    "\n",
    "print(\"SD: \",sd)\n",
    "\n",
    "var = sd ** 2\n",
    "\n",
    "print(\"Variance: \", var)"
   ]
  },
  {
   "cell_type": "markdown",
   "metadata": {},
   "source": [
    "## Min-Max Normalization"
   ]
  },
  {
   "cell_type": "code",
   "execution_count": 6,
   "metadata": {},
   "outputs": [
    {
     "name": "stdout",
     "output_type": "stream",
     "text": [
      "Scaled Values:  [0.0, 0.14462416745956222, 0.18839200761179828, 0.1950523311132255, 0.23691722169362506, 0.24643196955280677, 0.2863939105613701, 0.3035204567078972, 0.3330161750713606, 1.0]\n"
     ]
    }
   ],
   "source": [
    "mini = min(l)\n",
    "maxi = max(l)\n",
    "scaled = []\n",
    "for ele in l:\n",
    "    temp = (ele - mini)/(maxi - mini)\n",
    "    scaled.append(temp)\n",
    "    \n",
    "print(\"Scaled Values: \", scaled)\n",
    "    "
   ]
  },
  {
   "cell_type": "markdown",
   "metadata": {},
   "source": [
    "## Standardization"
   ]
  },
  {
   "cell_type": "code",
   "execution_count": 8,
   "metadata": {},
   "outputs": [
    {
     "name": "stdout",
     "output_type": "stream",
     "text": [
      "Standardized:  [-1.164169527898748, -0.5903894752378864, -0.4167455119326252, -0.39032143056008545, -0.22422720478983624, -0.18647851711477953, -0.027934028879541235, 0.04001360893556073, 0.15703454072823686, 2.803217546749712]\n"
     ]
    }
   ],
   "source": [
    "standard = []\n",
    "for el in l:\n",
    "    temp = (el - mean)/sd\n",
    "    standard.append(temp)\n",
    "    \n",
    "print(\"Standardized: \", standard)"
   ]
  }
 ],
 "metadata": {
  "kernelspec": {
   "display_name": "Python 3",
   "language": "python",
   "name": "python3"
  },
  "language_info": {
   "codemirror_mode": {
    "name": "ipython",
    "version": 3
   },
   "file_extension": ".py",
   "mimetype": "text/x-python",
   "name": "python",
   "nbconvert_exporter": "python",
   "pygments_lexer": "ipython3",
   "version": "3.8.5"
  }
 },
 "nbformat": 4,
 "nbformat_minor": 4
}
