{
 "cells": [
  {
   "cell_type": "code",
   "execution_count": 1,
   "id": "ab5f1093",
   "metadata": {},
   "outputs": [],
   "source": [
    "import pandas as pd\n",
    "import numpy as np\n",
    "import matplotlib.pyplot as plt\n",
    "from math import exp"
   ]
  },
  {
   "cell_type": "code",
   "execution_count": 2,
   "id": "4603824d",
   "metadata": {},
   "outputs": [
    {
     "data": {
      "text/html": [
       "<div>\n",
       "<style scoped>\n",
       "    .dataframe tbody tr th:only-of-type {\n",
       "        vertical-align: middle;\n",
       "    }\n",
       "\n",
       "    .dataframe tbody tr th {\n",
       "        vertical-align: top;\n",
       "    }\n",
       "\n",
       "    .dataframe thead th {\n",
       "        text-align: right;\n",
       "    }\n",
       "</style>\n",
       "<table border=\"1\" class=\"dataframe\">\n",
       "  <thead>\n",
       "    <tr style=\"text-align: right;\">\n",
       "      <th></th>\n",
       "      <th>x1</th>\n",
       "      <th>x2</th>\n",
       "      <th>y</th>\n",
       "    </tr>\n",
       "  </thead>\n",
       "  <tbody>\n",
       "    <tr>\n",
       "      <th>0</th>\n",
       "      <td>34.623660</td>\n",
       "      <td>78.024693</td>\n",
       "      <td>0</td>\n",
       "    </tr>\n",
       "    <tr>\n",
       "      <th>1</th>\n",
       "      <td>30.286711</td>\n",
       "      <td>43.894998</td>\n",
       "      <td>0</td>\n",
       "    </tr>\n",
       "    <tr>\n",
       "      <th>2</th>\n",
       "      <td>35.847409</td>\n",
       "      <td>72.902198</td>\n",
       "      <td>0</td>\n",
       "    </tr>\n",
       "    <tr>\n",
       "      <th>3</th>\n",
       "      <td>60.182599</td>\n",
       "      <td>86.308552</td>\n",
       "      <td>1</td>\n",
       "    </tr>\n",
       "    <tr>\n",
       "      <th>4</th>\n",
       "      <td>79.032736</td>\n",
       "      <td>75.344376</td>\n",
       "      <td>1</td>\n",
       "    </tr>\n",
       "  </tbody>\n",
       "</table>\n",
       "</div>"
      ],
      "text/plain": [
       "          x1         x2  y\n",
       "0  34.623660  78.024693  0\n",
       "1  30.286711  43.894998  0\n",
       "2  35.847409  72.902198  0\n",
       "3  60.182599  86.308552  1\n",
       "4  79.032736  75.344376  1"
      ]
     },
     "execution_count": 2,
     "metadata": {},
     "output_type": "execute_result"
    }
   ],
   "source": [
    "df = pd.read_csv(\"Student-University.csv\", header=None, names=[\"x1\", \"x2\", \"y\"])\n",
    "df.head()"
   ]
  },
  {
   "cell_type": "code",
   "execution_count": 3,
   "id": "eba4d58e",
   "metadata": {},
   "outputs": [],
   "source": [
    "# # plt.scatter(df[\"x\"], df[\"y\"], s=None, c=None, alpha=0.5)\n",
    "# plt.scatter(df[\"x1\"], df[\"x2\"], c=None)\n",
    "# plt.axis([min(df[\"x1\"]), max(df[\"x1\"]), min(df[\"x2\"]), max(df[\"x2\"])]);\n",
    "# plt.xlabel(\"x1 values\")\n",
    "# plt.ylabel(\"x2 values\")\n",
    "# plt.show()"
   ]
  },
  {
   "cell_type": "code",
   "execution_count": 4,
   "id": "0c270b43",
   "metadata": {},
   "outputs": [
    {
     "name": "stdout",
     "output_type": "stream",
     "text": [
      "x1\t\t x2\n",
      "0.065428 \t 0.694655\n",
      "0.003266 \t 0.194705\n",
      "0.082968 \t 0.619618\n",
      "0.431764 \t 0.816001\n",
      "0.701943 \t 0.655392\n",
      "0.215346 \t 0.37666\n",
      "0.445009 \t 0.965459\n",
      "0.644497 \t 0.233655\n",
      "0.659891 \t 0.832291\n",
      "0.779343 \t 0.189408\n",
      "0.943151 \t 0.111651\n",
      "0.644338 \t 0.0\n",
      "0.748874 \t 0.672056\n",
      "0.56337 \t 0.983143\n",
      "0.13587 \t 0.665535\n",
      "0.342734 \t 0.858465\n",
      "0.55915 \t 0.324278\n",
      "0.543049 \t 0.23548\n",
      "0.581959 \t 0.912954\n",
      "0.672504 \t 0.248625\n",
      "0.53481 \t 0.179227\n",
      "0.854504 \t 0.515572\n",
      "0.293482 \t 0.267373\n",
      "0.059528 \t 0.199312\n",
      "0.686053 \t 0.562051\n",
      "0.461698 \t 0.576438\n",
      "0.718533 \t 0.208278\n",
      "0.903776 \t 0.12008\n",
      "0.455379 \t 0.287886\n",
      "0.125084 \t 0.503799\n",
      "0.448916 \t 0.618236\n",
      "0.79327 \t 0.387435\n",
      "0.316031 \t 0.476435\n",
      "0.315134 \t 0.568797\n",
      "0.145882 \t 0.594211\n",
      "0.352252 \t 0.316564\n",
      "0.055278 \t 1.0\n",
      "0.489016 \t 0.736892\n",
      "0.641122 \t 0.160697\n",
      "0.059121 \t 0.65383\n",
      "0.77174 \t 0.376538\n",
      "0.308001 \t 0.238083\n",
      "0.922824 \t 0.512196\n",
      "0.749759 \t 0.146705\n",
      "0.300834 \t 0.222943\n",
      "0.461005 \t 0.314324\n",
      "0.675575 \t 0.583817\n",
      "0.970528 \t 0.822143\n",
      "0.45886 \t 0.969229\n",
      "0.881568 \t 0.850978\n",
      "0.715016 \t 0.638088\n",
      "0.99204 \t 0.445254\n",
      "0.866973 \t 0.187316\n",
      "0.064007 \t 0.436425\n",
      "0.289923 \t 0.281271\n",
      "0.279893 \t 0.427821\n",
      "0.968722 \t 0.560429\n",
      "0.036096 \t 0.952086\n",
      "0.633374 \t 0.574535\n",
      "0.598226 \t 0.700937\n",
      "0.649812 \t 0.807965\n",
      "0.074923 \t 0.240489\n",
      "0.375453 \t 0.12683\n",
      "0.0 \t 0.278172\n",
      "0.209397 \t 0.525104\n",
      "0.523184 \t 0.153646\n",
      "0.149045 \t 0.980455\n",
      "0.272524 \t 0.31172\n",
      "0.719814 \t 0.901073\n",
      "0.525848 \t 0.445142\n",
      "0.038183 \t 0.186094\n",
      "0.487043 \t 0.694757\n",
      "0.606109 \t 0.961301\n",
      "0.43571 \t 0.622442\n",
      "0.412534 \t 0.662923\n",
      "1.0 \t 0.611811\n",
      "0.246606 \t 0.847749\n",
      "0.292384 \t 0.662211\n",
      "0.435677 \t 0.174393\n",
      "0.747722 \t 0.177491\n",
      "0.84357 \t 0.574231\n",
      "0.92843 \t 0.221062\n",
      "0.534054 \t 0.527144\n",
      "0.389569 \t 0.423504\n",
      "0.721064 \t 0.88414\n",
      "0.550526 \t 0.805539\n",
      "0.172234 \t 0.706668\n",
      "0.650989 \t 0.876295\n",
      "0.696249 \t 0.967451\n",
      "0.319471 \t 0.441892\n",
      "0.917821 \t 0.681975\n",
      "0.865566 \t 0.833583\n",
      "0.364393 \t 0.072766\n",
      "0.636871 \t 0.794564\n",
      "0.856927 \t 0.21614\n",
      "0.765817 \t 0.260407\n",
      "0.174904 \t 0.827651\n",
      "0.992649 \t 0.559166\n",
      "0.362356 \t 0.502865\n",
      "0.64093 \t 0.863188\n"
     ]
    }
   ],
   "source": [
    "x1 = df[\"x1\"].tolist()\n",
    "x2 = df[\"x2\"].tolist()\n",
    "y = df[\"y\"].tolist()\n",
    "\n",
    "x1_min = min(x1)\n",
    "x1_max = max(x1)\n",
    "x2_min = min(x2)\n",
    "x2_max = max(x2)\n",
    "for i in range(len(x1)):\n",
    "    x1[i] = round(((x1[i] - x1_min) / (x1_max - x1_min)), 6)\n",
    "    x2[i] = round(((x2[i] - x2_min) / (x2_max - x2_min)), 6)\n",
    "    \n",
    "print(f\"x1\\t\\t x2\")\n",
    "for i in range(0, len(x2)):\n",
    "    print(f\"{x1[i]} \\t {x2[i]}\")"
   ]
  },
  {
   "cell_type": "code",
   "execution_count": 5,
   "id": "6a866f96",
   "metadata": {},
   "outputs": [],
   "source": [
    "x1 = np.array(x1)\n",
    "x2 = np.array(x2)\n",
    "y = np.array(y)\n",
    "\n",
    "X = pd.DataFrame({'x1': x1, 'x2': x2}, columns=['x1', 'x2'])\n",
    "X.head()\n",
    "\n",
    "from sklearn.model_selection import train_test_split\n",
    "\n",
    "x_train, x_test, y_train, y_test = train_test_split(X, y, test_size = 0.2, random_state = 111)"
   ]
  },
  {
   "cell_type": "code",
   "execution_count": 6,
   "id": "2b41d133",
   "metadata": {},
   "outputs": [],
   "source": [
    "x1 = list(x_train[\"x1\"])\n",
    "x1_test = list(x_test[\"x1\"])\n",
    "x2 = list(x_train[\"x2\"])\n",
    "x2_test = list(x_test[\"x2\"])"
   ]
  },
  {
   "cell_type": "code",
   "execution_count": 7,
   "id": "9eac3015",
   "metadata": {},
   "outputs": [],
   "source": [
    "b = [1,0.5,0.5]\n",
    "l_rate = 0.3\n",
    "e = 2.71828\n",
    "length = len(x1)"
   ]
  },
  {
   "cell_type": "code",
   "execution_count": 8,
   "id": "24bee370",
   "metadata": {},
   "outputs": [],
   "source": [
    "def grad_desc(b):\n",
    "    pred = []\n",
    "    x = []\n",
    "    temp = 0\n",
    "    for i in range(length):\n",
    "        x.append(b[0] + b[1] * x1[i] + b[2] * x2[i])\n",
    "    for i in range(length):\n",
    "        pred.append( 1 / ( 1 + ( e ** ( -1 * x[i] ) ) ) )\n",
    "    for j in range(3):\n",
    "        for i in range(length):\n",
    "            temp = l_rate * (y_train[i] - pred[i]) * (pred[i]) * (1 - pred[i])\n",
    "            if(j == 1):\n",
    "                temp *= x1[i]\n",
    "            if(j == 2):\n",
    "                temp *= x2[i]\n",
    "            b[j] += temp \n",
    "    return b"
   ]
  },
  {
   "cell_type": "code",
   "execution_count": 9,
   "id": "c1961d11",
   "metadata": {},
   "outputs": [
    {
     "name": "stdout",
     "output_type": "stream",
     "text": [
      "[-0.888556549054473, 1.0604640407707517, 1.066667798345073]\n"
     ]
    }
   ],
   "source": [
    "for i in range(5):\n",
    "    b = grad_desc(b)\n",
    "print(b)"
   ]
  },
  {
   "cell_type": "code",
   "execution_count": 10,
   "id": "7c1b0d6b",
   "metadata": {},
   "outputs": [
    {
     "name": "stdout",
     "output_type": "stream",
     "text": [
      "[0.5964264649419027, 0.41213201262516014, 0.4178205820364411, 0.5125720459942209, 0.6925780792449698, 0.4674874359642989, 0.480405784250385, 0.7147364929867149, 0.3954372293178448, 0.5589080029000962, 0.6107830533242982, 0.5319228263899913, 0.5537725602469071, 0.35141410299827064, 0.5590819212090299, 0.523878130224192, 0.3652657682304119, 0.4662023388409456, 0.47342831691883563, 0.5821996088100362]\n",
      "[1, 0, 0, 1, 1, 0, 0, 1, 0, 1, 1, 1, 1, 0, 1, 1, 0, 0, 0, 1]\n"
     ]
    }
   ],
   "source": [
    "# evaluating on x_test dataframes\n",
    "x = []\n",
    "pred = []\n",
    "length_t = len(x_test)\n",
    "\n",
    "for i in range(length_t):\n",
    "    x.append(b[0] + b[1] * x1_test[i] + b[2] * x2_test[i])\n",
    "for i in range(length_t):\n",
    "    pred.append( 1 / ( 1 + ( e ** ( -1 * x[i] ) ) ) )\n",
    "    \n",
    "print(pred)\n",
    "for i in range(length_t):\n",
    "    if (pred[i] > 0.5):\n",
    "        pred[i] = 1\n",
    "    else:\n",
    "        pred[i] = 0\n",
    "print(pred)\n"
   ]
  },
  {
   "cell_type": "code",
   "execution_count": 11,
   "id": "4bc679c4",
   "metadata": {},
   "outputs": [
    {
     "name": "stdout",
     "output_type": "stream",
     "text": [
      "[[ 9  1]\n",
      " [ 0 10]]\n",
      "              precision    recall  f1-score   support\n",
      "\n",
      "           0       1.00      0.90      0.95        10\n",
      "           1       0.91      1.00      0.95        10\n",
      "\n",
      "    accuracy                           0.95        20\n",
      "   macro avg       0.95      0.95      0.95        20\n",
      "weighted avg       0.95      0.95      0.95        20\n",
      "\n"
     ]
    }
   ],
   "source": [
    "from sklearn.metrics import classification_report, confusion_matrix\n",
    "print(confusion_matrix(y_test, pred))\n",
    "print(classification_report(y_test, pred))"
   ]
  },
  {
   "cell_type": "code",
   "execution_count": null,
   "id": "f0fbcc9c",
   "metadata": {},
   "outputs": [],
   "source": []
  }
 ],
 "metadata": {
  "kernelspec": {
   "display_name": "Python 3 (ipykernel)",
   "language": "python",
   "name": "python3"
  },
  "language_info": {
   "codemirror_mode": {
    "name": "ipython",
    "version": 3
   },
   "file_extension": ".py",
   "mimetype": "text/x-python",
   "name": "python",
   "nbconvert_exporter": "python",
   "pygments_lexer": "ipython3",
   "version": "3.10.1"
  }
 },
 "nbformat": 4,
 "nbformat_minor": 5
}
