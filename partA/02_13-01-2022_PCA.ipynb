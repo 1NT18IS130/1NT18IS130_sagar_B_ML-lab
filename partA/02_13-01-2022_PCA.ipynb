{
 "cells": [
  {
   "cell_type": "code",
   "execution_count": 1,
   "id": "820e7fb7",
   "metadata": {},
   "outputs": [],
   "source": [
    "import numpy as np\n",
    "import pandas as pd"
   ]
  },
  {
   "cell_type": "code",
   "execution_count": 2,
   "id": "4387d923",
   "metadata": {},
   "outputs": [
    {
     "data": {
      "text/html": [
       "<div>\n",
       "<style scoped>\n",
       "    .dataframe tbody tr th:only-of-type {\n",
       "        vertical-align: middle;\n",
       "    }\n",
       "\n",
       "    .dataframe tbody tr th {\n",
       "        vertical-align: top;\n",
       "    }\n",
       "\n",
       "    .dataframe thead th {\n",
       "        text-align: right;\n",
       "    }\n",
       "</style>\n",
       "<table border=\"1\" class=\"dataframe\">\n",
       "  <thead>\n",
       "    <tr style=\"text-align: right;\">\n",
       "      <th></th>\n",
       "      <th>0</th>\n",
       "      <th>1</th>\n",
       "      <th>2</th>\n",
       "      <th>3</th>\n",
       "      <th>4</th>\n",
       "    </tr>\n",
       "  </thead>\n",
       "  <tbody>\n",
       "    <tr>\n",
       "      <th>0</th>\n",
       "      <td>5.1</td>\n",
       "      <td>3.5</td>\n",
       "      <td>1.4</td>\n",
       "      <td>0.2</td>\n",
       "      <td>Iris-setosa</td>\n",
       "    </tr>\n",
       "    <tr>\n",
       "      <th>1</th>\n",
       "      <td>4.9</td>\n",
       "      <td>3.0</td>\n",
       "      <td>1.4</td>\n",
       "      <td>0.2</td>\n",
       "      <td>Iris-setosa</td>\n",
       "    </tr>\n",
       "    <tr>\n",
       "      <th>2</th>\n",
       "      <td>4.7</td>\n",
       "      <td>3.2</td>\n",
       "      <td>1.3</td>\n",
       "      <td>0.2</td>\n",
       "      <td>Iris-setosa</td>\n",
       "    </tr>\n",
       "    <tr>\n",
       "      <th>3</th>\n",
       "      <td>4.6</td>\n",
       "      <td>3.1</td>\n",
       "      <td>1.5</td>\n",
       "      <td>0.2</td>\n",
       "      <td>Iris-setosa</td>\n",
       "    </tr>\n",
       "    <tr>\n",
       "      <th>4</th>\n",
       "      <td>5.0</td>\n",
       "      <td>3.6</td>\n",
       "      <td>1.4</td>\n",
       "      <td>0.2</td>\n",
       "      <td>Iris-setosa</td>\n",
       "    </tr>\n",
       "  </tbody>\n",
       "</table>\n",
       "</div>"
      ],
      "text/plain": [
       "     0    1    2    3            4\n",
       "0  5.1  3.5  1.4  0.2  Iris-setosa\n",
       "1  4.9  3.0  1.4  0.2  Iris-setosa\n",
       "2  4.7  3.2  1.3  0.2  Iris-setosa\n",
       "3  4.6  3.1  1.5  0.2  Iris-setosa\n",
       "4  5.0  3.6  1.4  0.2  Iris-setosa"
      ]
     },
     "execution_count": 2,
     "metadata": {},
     "output_type": "execute_result"
    }
   ],
   "source": [
    "df = pd.read_csv('iris.data', header=None)\n",
    "df.head()"
   ]
  },
  {
   "cell_type": "code",
   "execution_count": 3,
   "id": "a7b2f5fb",
   "metadata": {},
   "outputs": [],
   "source": [
    "x = df[0].tolist()\n",
    "y = df[1].tolist()"
   ]
  },
  {
   "cell_type": "code",
   "execution_count": 4,
   "id": "5e9666ec",
   "metadata": {},
   "outputs": [],
   "source": [
    "# # Standardization\n",
    "\n",
    "# def standardize(array):\n",
    "#     length = len(array)\n",
    "#     sq_from_mean = []\n",
    "#     mean = sum(array)/ length\n",
    "#     for i in range(0, length):\n",
    "#         sq_from_mean.append((mean - array[i]) ** 2)\n",
    "\n",
    "#     sum_before = sum(sq_from_mean)\n",
    "\n",
    "#     sd = (sum_before/length)**0.5\n",
    "\n",
    "#     standard = []\n",
    "#     for el in array:\n",
    "#         temp = (el - mean)/sd\n",
    "#         standard.append(temp)\n",
    "#     return standard"
   ]
  },
  {
   "cell_type": "code",
   "execution_count": 5,
   "id": "b5676dd6",
   "metadata": {},
   "outputs": [],
   "source": [
    "# x = standardize(x)\n",
    "# y = standardize(y)"
   ]
  },
  {
   "cell_type": "code",
   "execution_count": 6,
   "id": "8c36f65a",
   "metadata": {},
   "outputs": [],
   "source": [
    "mean_x = sum(x)/len(x)\n",
    "mean_y = sum(y)/len(y)\n",
    "def covar_matrix(x,y):\n",
    "    length = len(x)\n",
    "    x_minus_x_bar = []\n",
    "    y_minus_y_bar = []\n",
    "    for i in range(0, length):\n",
    "        x_minus_x_bar.append(x[i] - mean_x)\n",
    "        y_minus_y_bar.append(y[i] - mean_y)\n",
    "    xx_sum = 0\n",
    "    yy_sum = 0\n",
    "    xy_sum = 0\n",
    "    for j in range(0, length):\n",
    "        xx_sum += (x_minus_x_bar[j]*x_minus_x_bar[j])\n",
    "        yy_sum += (y_minus_y_bar[j]*y_minus_y_bar[j])\n",
    "        xy_sum += (x_minus_x_bar[j]*y_minus_y_bar[j])\n",
    "    cov_xx = xx_sum/(length-1)\n",
    "    cov_yy = yy_sum/(length-1)\n",
    "    cov_xy = xy_sum/(length-1)\n",
    "    return [[cov_xx, cov_xy],[cov_xy, cov_yy]]\n",
    "    "
   ]
  },
  {
   "cell_type": "code",
   "execution_count": 7,
   "id": "3fb90e20",
   "metadata": {},
   "outputs": [],
   "source": [
    "covar_matrix = covar_matrix(x,y)"
   ]
  },
  {
   "cell_type": "code",
   "execution_count": 8,
   "id": "195aeb18",
   "metadata": {},
   "outputs": [
    {
     "name": "stdout",
     "output_type": "stream",
     "text": [
      "[[0.6856935123042505, -0.03926845637583892], [-0.03926845637583892, 0.18800402684563763]]\n"
     ]
    }
   ],
   "source": [
    "print(covar_matrix)"
   ]
  },
  {
   "cell_type": "code",
   "execution_count": 11,
   "id": "4617a143",
   "metadata": {},
   "outputs": [],
   "source": [
    "values, vectors = np.linalg.eig(covar_matrix)"
   ]
  },
  {
   "cell_type": "code",
   "execution_count": 21,
   "id": "762439e2",
   "metadata": {},
   "outputs": [
    {
     "name": "stdout",
     "output_type": "stream",
     "text": [
      "[0.6887728  0.18492474] [[ 0.99693955  0.07817635]\n",
      " [-0.07817635  0.99693955]]\n"
     ]
    }
   ],
   "source": [
    "print(values, vectors)"
   ]
  },
  {
   "cell_type": "code",
   "execution_count": 29,
   "id": "44331d00",
   "metadata": {},
   "outputs": [],
   "source": [
    "def get_max(values, vectors):\n",
    "    max_value, index = max(values), values.argmax(axis=0)\n",
    "    max_vector = [vectors[0][index], vectors[1][index]]\n",
    "    return max_vector"
   ]
  },
  {
   "cell_type": "code",
   "execution_count": 30,
   "id": "5d62a620",
   "metadata": {},
   "outputs": [],
   "source": [
    "max_vector = get_max(values, vectors)"
   ]
  },
  {
   "cell_type": "code",
   "execution_count": 31,
   "id": "4c145e39",
   "metadata": {},
   "outputs": [
    {
     "name": "stdout",
     "output_type": "stream",
     "text": [
      "[0.9969395456330721, -0.07817635418029882]\n"
     ]
    }
   ],
   "source": [
    "print(max_vector)"
   ]
  },
  {
   "cell_type": "code",
   "execution_count": 32,
   "id": "1f3803ac",
   "metadata": {},
   "outputs": [
    {
     "name": "stdout",
     "output_type": "stream",
     "text": [
      "[4.810774443097621, 4.6504747110611575, 4.435451531098483, 4.343575211953205, 4.703262853116285, 5.078585765115425, 4.320122305699115, 4.718898123952345, 4.159822573662651, 4.642657075643127, 5.094221035951485, 4.51951021482573, 4.55078075649785, 4.052310983681314, 5.469543947950623, 5.338579451715196, 5.078585765115425, 4.810774443097621, 5.385485264223376, 4.787321536843532, 5.117673942205574, 4.795139172261562, 4.3044870348630555, 4.826409713933681, 4.51951021482573, 4.750168665624464, 4.718898123952345, 4.91046839766093, 4.918286033078959, 4.435451531098483, 4.542963121079819, 5.117673942205574, 4.86356258515275, 5.154826813424641, 4.642657075643127, 4.7345333947884045, 5.20955026135085, 4.642657075643127, 4.152004938244621, 4.8185920785156515, 4.711080488534314, 4.306422340734137, 4.1363696674085615, 4.711080488534314, 4.787321536843532, 4.55078075649785, 4.787321536843532, 4.335757576535175, 4.994527081388177, 4.726715759370374, 6.728412486054548, 6.130248758674705, 6.636536166909271, 5.30336188636721, 6.261213254910132, 5.463661618403675, 6.022737168693367, 4.697380523569336, 6.353089574055408, 4.973009481005168, 4.828345019804763, 5.64741425669423, 5.809649294601774, 5.854619801238872, 5.356150028422337, 6.437148257782656, 5.348332393004307, 5.571173208385011, 6.009037203728389, 5.387420570094457, 5.63177898585817, 5.8624374366569025, 6.0852782520376065, 5.8624374366569025, 6.153701664928795, 6.345271938637379, 6.560295118600053, 6.444965893200687, 5.754925846675565, 5.479296889239734, 5.295544250949179, 5.295544250949179, 5.571173208385011, 5.770561117511625, 5.148944483877694, 5.715837669585416, 6.437148257782656, 6.100913522873666, 5.348332393004307, 5.28772661553115, 5.27990898011312, 5.846802165820843, 5.578990843803041, 4.8048921135506735, 5.371785299258397, 5.448026347567615, 5.455843982985645, 5.95431375580218, 4.8889507972779205, 5.463661618403675, 6.022737168693367, 5.571173208385011, 6.843741711453915, 6.054007710365487, 6.245577984074072, 7.342211484270451, 4.689562888151307, 7.050947255998559, 6.484054070290836, 6.896529853509043, 6.229942713238012, 6.169336935764854, 6.5446598477639935, 5.487114524657764, 5.563355572966982, 6.130248758674705, 6.245577984074072, 7.379364355489519, 7.473175980505879, 5.809649294601774, 6.628718531491241, 5.363967663840367, 7.457540709669819, 6.069642981201547, 6.421512986946596, 6.927800395181163, 5.96213139122021, 5.846802165820843, 6.161519300346825, 6.943435666017223, 7.158458845979897, 7.578752264616134, 6.161519300346825, 6.061825345783517, 5.8780727074929615, 7.441905438833759, 6.014919533275338, 6.138066394092735, 5.747108211257536, 6.636536166909271, 6.437148257782656, 6.636536166909271, 5.571173208385011, 6.529024576927934, 6.421512986946596, 6.444965893200687, 6.0852782520376065, 6.245577984074072, 5.915225578712031, 5.64741425669423]\n"
     ]
    }
   ],
   "source": [
    "# Dimensionality reduction\n",
    "reduced_values = []\n",
    "for i in range(0, len(x)):\n",
    "    reduced_values.append((x[i] * max_vector[0]) + (y[i] * max_vector[1]))\n",
    "print(reduced_values)"
   ]
  },
  {
   "cell_type": "code",
   "execution_count": 37,
   "id": "899b4ca7",
   "metadata": {},
   "outputs": [
    {
     "data": {
      "text/html": [
       "<div>\n",
       "<style scoped>\n",
       "    .dataframe tbody tr th:only-of-type {\n",
       "        vertical-align: middle;\n",
       "    }\n",
       "\n",
       "    .dataframe tbody tr th {\n",
       "        vertical-align: top;\n",
       "    }\n",
       "\n",
       "    .dataframe thead th {\n",
       "        text-align: right;\n",
       "    }\n",
       "</style>\n",
       "<table border=\"1\" class=\"dataframe\">\n",
       "  <thead>\n",
       "    <tr style=\"text-align: right;\">\n",
       "      <th></th>\n",
       "      <th>PCA1</th>\n",
       "      <th>PCA2</th>\n",
       "    </tr>\n",
       "  </thead>\n",
       "  <tbody>\n",
       "    <tr>\n",
       "      <th>0</th>\n",
       "      <td>-2.684207</td>\n",
       "      <td>0.326607</td>\n",
       "    </tr>\n",
       "    <tr>\n",
       "      <th>1</th>\n",
       "      <td>-2.715391</td>\n",
       "      <td>-0.169557</td>\n",
       "    </tr>\n",
       "    <tr>\n",
       "      <th>2</th>\n",
       "      <td>-2.889820</td>\n",
       "      <td>-0.137346</td>\n",
       "    </tr>\n",
       "    <tr>\n",
       "      <th>3</th>\n",
       "      <td>-2.746437</td>\n",
       "      <td>-0.311124</td>\n",
       "    </tr>\n",
       "    <tr>\n",
       "      <th>4</th>\n",
       "      <td>-2.728593</td>\n",
       "      <td>0.333925</td>\n",
       "    </tr>\n",
       "    <tr>\n",
       "      <th>...</th>\n",
       "      <td>...</td>\n",
       "      <td>...</td>\n",
       "    </tr>\n",
       "    <tr>\n",
       "      <th>145</th>\n",
       "      <td>1.944017</td>\n",
       "      <td>0.187415</td>\n",
       "    </tr>\n",
       "    <tr>\n",
       "      <th>146</th>\n",
       "      <td>1.525664</td>\n",
       "      <td>-0.375021</td>\n",
       "    </tr>\n",
       "    <tr>\n",
       "      <th>147</th>\n",
       "      <td>1.764046</td>\n",
       "      <td>0.078519</td>\n",
       "    </tr>\n",
       "    <tr>\n",
       "      <th>148</th>\n",
       "      <td>1.901629</td>\n",
       "      <td>0.115877</td>\n",
       "    </tr>\n",
       "    <tr>\n",
       "      <th>149</th>\n",
       "      <td>1.389666</td>\n",
       "      <td>-0.282887</td>\n",
       "    </tr>\n",
       "  </tbody>\n",
       "</table>\n",
       "<p>150 rows × 2 columns</p>\n",
       "</div>"
      ],
      "text/plain": [
       "         PCA1      PCA2\n",
       "0   -2.684207  0.326607\n",
       "1   -2.715391 -0.169557\n",
       "2   -2.889820 -0.137346\n",
       "3   -2.746437 -0.311124\n",
       "4   -2.728593  0.333925\n",
       "..        ...       ...\n",
       "145  1.944017  0.187415\n",
       "146  1.525664 -0.375021\n",
       "147  1.764046  0.078519\n",
       "148  1.901629  0.115877\n",
       "149  1.389666 -0.282887\n",
       "\n",
       "[150 rows x 2 columns]"
      ]
     },
     "execution_count": 37,
     "metadata": {},
     "output_type": "execute_result"
    }
   ],
   "source": [
    "from sklearn.decomposition import PCA\n",
    "X = df.iloc[:,0:4]\n",
    "Y = df.iloc[:,4]\n",
    "pca = PCA(n_components=2)\n",
    "pc = pca.fit_transform(X)\n",
    "\n",
    "p_df=pd.DataFrame(data=pc, columns = ['PCA1', 'PCA2'])\n",
    "p_df\n",
    "\n"
   ]
  },
  {
   "cell_type": "code",
   "execution_count": null,
   "id": "2ec8a57a",
   "metadata": {},
   "outputs": [],
   "source": []
  }
 ],
 "metadata": {
  "kernelspec": {
   "display_name": "Python 3 (ipykernel)",
   "language": "python",
   "name": "python3"
  },
  "language_info": {
   "codemirror_mode": {
    "name": "ipython",
    "version": 3
   },
   "file_extension": ".py",
   "mimetype": "text/x-python",
   "name": "python",
   "nbconvert_exporter": "python",
   "pygments_lexer": "ipython3",
   "version": "3.10.1"
  }
 },
 "nbformat": 4,
 "nbformat_minor": 5
}
