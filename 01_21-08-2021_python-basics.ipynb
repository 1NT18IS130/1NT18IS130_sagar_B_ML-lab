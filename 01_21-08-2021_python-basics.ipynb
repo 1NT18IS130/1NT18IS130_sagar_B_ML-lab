{
 "cells": [
  {
   "cell_type": "markdown",
   "metadata": {},
   "source": []
  },
  {
   "cell_type": "code",
   "execution_count": 3,
   "metadata": {},
   "outputs": [
    {
     "name": "stdout",
     "output_type": "stream",
     "text": [
      "[4, 6, 7, 9, 11]\n"
     ]
    }
   ],
   "source": [
    "# Adding two lists\n",
    "\n",
    "a = [1,2,2,3,4]\n",
    "b = [3,4,5,6,7]\n",
    "\n",
    "c = []\n",
    "for i in range(0, len(a)):\n",
    "    c.append(a[i] + b[i])\n",
    "    \n",
    "print(c)"
   ]
  },
  {
   "cell_type": "code",
   "execution_count": 13,
   "metadata": {},
   "outputs": [
    {
     "name": "stdout",
     "output_type": "stream",
     "text": [
      "Enter the thing:3\n",
      "Enter a: 12\n",
      "Enter b:0\n",
      "Zero Divisor\n"
     ]
    }
   ],
   "source": [
    "# Simple Calculator\n",
    "\n",
    "i = int(input(\"Enter the thing:\"))\n",
    "if i == 0:\n",
    "    a = int(input(\"Enter a: \"))\n",
    "    b = int(input(\"Enter b:\"))\n",
    "    print(\"a + b = \",a+b)\n",
    "elif i == 1:\n",
    "    a = int(input(\"Enter a: \"))\n",
    "    b = int(input(\"Enter b:\"))\n",
    "    print(\"a - b = \",a-b)\n",
    "elif i == 2:\n",
    "    a = int(input(\"Enter a: \"))\n",
    "    b = int(input(\"Enter b:\"))\n",
    "    print(\"a * b = \",a*b)\n",
    "elif i == 3:\n",
    "    a = int(input(\"Enter a: \"))\n",
    "    b = int(input(\"Enter b:\"))\n",
    "    if b != 0:\n",
    "        print(\"a / b = \",a/b)\n",
    "    else:\n",
    "        print(\"Zero Divisor\")\n",
    "\n",
    "    "
   ]
  },
  {
   "cell_type": "code",
   "execution_count": 38,
   "metadata": {},
   "outputs": [
    {
     "name": "stdout",
     "output_type": "stream",
     "text": [
      "Enter the num = 3\n",
      "Enter the distribution\n",
      "Enter the 0th digit12\n",
      "Enter the 1th digit14\n",
      "Enter the 2th digit12\n",
      "[12, 12, 14]\n",
      "Mean:  12.666666666666666\n",
      "Median:  12\n",
      "Mode :  12\n"
     ]
    }
   ],
   "source": [
    "# Mean, Median, Mode\n",
    "\n",
    "l = []\n",
    "n = int(input(\"Enter the num = \"))\n",
    "print(\"Enter the distribution\")\n",
    "for i in range(0, n):\n",
    "    l.append(int(input(\"Enter the \" + str(i) + \"th digit\")))\n",
    "\n",
    "l.sort()\n",
    "print(l)\n",
    "leng = len(l)\n",
    "mean = sum(l)/leng\n",
    "print(\"Mean: \", mean)\n",
    "\n",
    "if len(l) % 2 != 0:\n",
    "    median = (leng // 2) + 1 - 1\n",
    "    print(\"Median: \",l[median])\n",
    "\n",
    "if len(l) % 2 == 0:\n",
    "    median = ((l[leng//2] + l[(leng + 2)//2]) / 2) - 1\n",
    "    print(\"Median: \",median)\n",
    "    \n",
    "counter = {}\n",
    "\n",
    "for i in range(0, leng):\n",
    "    if str(l[i]) not in counter:\n",
    "        counter[str(l[i])] = 1\n",
    "    else:\n",
    "        counter[str(l[i])] += 1\n",
    "        \n",
    "mode = max(counter, key=counter.get)\n",
    "print(\"Mode : \",mode)"
   ]
  },
  {
   "cell_type": "code",
   "execution_count": 43,
   "metadata": {},
   "outputs": [
    {
     "name": "stdout",
     "output_type": "stream",
     "text": [
      "[1, 2, 3, 5, 7, 9]\n"
     ]
    }
   ],
   "source": [
    "# Bubble Sort\n",
    "\n",
    "l = [2,7,9,1,3,5]\n",
    "\n",
    "for i in range(0, len(l)):\n",
    "    for j in range(i, len(l)):\n",
    "        if l[i] > l[j]:\n",
    "            temp = l[j]\n",
    "            l[j] = l[i]\n",
    "            l[i] = temp\n",
    "print(l)"
   ]
  },
  {
   "cell_type": "code",
   "execution_count": 41,
   "metadata": {},
   "outputs": [
    {
     "name": "stdout",
     "output_type": "stream",
     "text": [
      "Enter the num = 5\n",
      "Enter the distribution\n",
      "Enter the 0th digit12\n",
      "Enter the 1th digit17\n",
      "Enter the 2th digit21\n",
      "Enter the 3th digit34\n",
      "Enter the 4th digit45\n",
      "[12, 17, 21, 34, 45]\n",
      "Mean:  25.8\n",
      "12.056533498481228\n"
     ]
    }
   ],
   "source": [
    "# Standard Deviation\n",
    "import math\n",
    "\n",
    "l = []\n",
    "n = int(input(\"Enter the num = \"))\n",
    "print(\"Enter the distribution\")\n",
    "for i in range(0, n):\n",
    "    l.append(int(input(\"Enter the \" + str(i) + \"th digit\")))\n",
    "\n",
    "print(l)\n",
    "leng = len(l)\n",
    "mean = sum(l)/leng\n",
    "print(\"Mean: \", mean)\n",
    "\n",
    "sq_from_mean = []\n",
    "\n",
    "for i in range(0, leng):\n",
    "    sq_from_mean.append((mean - l[i]) ** 2)\n",
    "\n",
    "sum_before = sum(sq_from_mean)\n",
    "\n",
    "sd = math.sqrt(sum_before/leng)\n",
    "\n",
    "print(sd)"
   ]
  },
  {
   "cell_type": "code",
   "execution_count": 42,
   "metadata": {},
   "outputs": [
    {
     "data": {
      "text/plain": [
       "12.056533498481228"
      ]
     },
     "execution_count": 42,
     "metadata": {},
     "output_type": "execute_result"
    }
   ],
   "source": [
    "import numpy as np\n",
    "\n",
    "np.std(l)"
   ]
  },
  {
   "cell_type": "code",
   "execution_count": null,
   "metadata": {},
   "outputs": [],
   "source": []
  }
 ],
 "metadata": {
  "kernelspec": {
   "display_name": "Python 3",
   "language": "python",
   "name": "python3"
  },
  "language_info": {
   "codemirror_mode": {
    "name": "ipython",
    "version": 3
   },
   "file_extension": ".py",
   "mimetype": "text/x-python",
   "name": "python",
   "nbconvert_exporter": "python",
   "pygments_lexer": "ipython3",
   "version": "3.8.5"
  }
 },
 "nbformat": 4,
 "nbformat_minor": 4
}
